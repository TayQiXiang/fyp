{
 "cells": [
  {
   "cell_type": "code",
   "execution_count": null,
   "id": "964c07da-98c6-434e-9c60-03a801c099a2",
   "metadata": {},
   "outputs": [],
   "source": [
    "import torch\n",
    "torch.cuda.is_available()"
   ]
  },
  {
   "cell_type": "code",
   "execution_count": null,
   "id": "ad8cbfce-da7e-4b73-968a-d0a91448e05a",
   "metadata": {},
   "outputs": [],
   "source": [
    "# python train.py --config configs/templates/orthocos.yaml --ds imagenet100 --nbit 64 --epoch 50 --save-model"
   ]
  },
  {
   "cell_type": "code",
   "execution_count": null,
   "id": "1b572ca6-327f-48e5-8ae9-e831ff857e4b",
   "metadata": {},
   "outputs": [],
   "source": [
    "# python inference.py --dir logs/orthocos_alexnet_orthohash_64_imagenet100_50_0.0001_adam/000_test_0 --device cuda:0 --k 10 --ip 0.0.0.0 --port 8000"
   ]
  },
  {
   "cell_type": "code",
   "execution_count": null,
   "id": "8e55aa13-3ffd-4241-85ac-2b06b272a3a7",
   "metadata": {},
   "outputs": [],
   "source": [
    "# Code playground\n",
    "\n",
    "# ! unzip cisip-FIRe/data/output.zip -d cisip-FIRe/data/files\n",
    "# python inference.py --dir logs/orthocos_alexnet_orthohash_64_imagenet100_30_0.0001_adam/000_test_0 --device cuda:0 --k 10 --ip 0.0.0.0 --port 8000\n"
   ]
  }
 ],
 "metadata": {
  "kernelspec": {
   "display_name": "Python 3 (ipykernel)",
   "language": "python",
   "name": "python3"
  },
  "language_info": {
   "codemirror_mode": {
    "name": "ipython",
    "version": 3
   },
   "file_extension": ".py",
   "mimetype": "text/x-python",
   "name": "python",
   "nbconvert_exporter": "python",
   "pygments_lexer": "ipython3",
   "version": "3.10.13"
  }
 },
 "nbformat": 4,
 "nbformat_minor": 5
}
